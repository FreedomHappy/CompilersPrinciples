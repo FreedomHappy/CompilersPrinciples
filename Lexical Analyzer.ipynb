{
 "cells": [
  {
   "cell_type": "markdown",
   "metadata": {},
   "source": [
    "# CompilersPrinciples \n",
    "## 词法分析器 （课程实验）"
   ]
  },
  {
   "cell_type": "markdown",
   "metadata": {},
   "source": [
    "## 实验要求\n",
    "识别保留字：if、int、for、while、do、return、break、continue； 单词种别码为1。\n",
    "\n",
    "其他的都识别为标识符；                            单词种别码为2。\n",
    "\n",
    "常数为无符号整形数；                             单词种别码为3。\n",
    "\n",
    "运算符包括：+、-、*、/、=、>、<、>=、<=、!=              单词种别码为4。\n",
    "\n",
    "分隔符包括：,、;、{、}、(、)；                       单词种别码为5。\n"
   ]
  },
  {
   "cell_type": "code",
   "execution_count": 41,
   "metadata": {},
   "outputs": [],
   "source": [
    "import re\n",
    "\n",
    "type1 = ['if','int','for','while','do','return','break','continue']\n",
    "type4 = ['+', '-', '*', '/', '=', '>', '<', '>=', '<=', '!=','!']\n",
    "type5 = [',' , ';' , '{' , '}' , '(' , ')']"
   ]
  },
  {
   "cell_type": "code",
   "execution_count": 42,
   "metadata": {},
   "outputs": [],
   "source": [
    "tests = \"\"\"main()                                                                         \n",
    "{\n",
    "int  a,b;\n",
    "a = 10;\n",
    "           \tb = a + 20;\n",
    "}\n",
    "\"\"\""
   ]
  },
  {
   "cell_type": "code",
   "execution_count": 43,
   "metadata": {},
   "outputs": [],
   "source": [
    "def Lexical_Analyzer(s):\n",
    "    pattern1 = r'[a-zA-Z]' # 识别字母\n",
    "    pattern2 = r'[0-9]' # 识别数字\n",
    "    output = []\n",
    "    thisword = ''\n",
    "    lasttype = -1\n",
    "    thistype = -1\n",
    "    for char in s:\n",
    "        if re.match(r'\\s',char): # 匹配到空白符\n",
    "            thistype = 0\n",
    "            if thistype != lasttype and thisword:\n",
    "                if thisword in type1:\n",
    "                    output.append((1,thisword))\n",
    "                else:\n",
    "                    output.append((lasttype,thisword))\n",
    "                thisword = ''\n",
    "            lasttype = 0\n",
    "        elif re.match(pattern1,char): # 匹配到字母\n",
    "            thistype = 2\n",
    "            if thistype != lasttype and thisword:\n",
    "                if thisword in type1:\n",
    "                    output.append((1,thisword))\n",
    "                else:\n",
    "                    output.append((lasttype,thisword))\n",
    "                thisword = ''\n",
    "            thisword += char\n",
    "            lasttype = 2     \n",
    "        elif re.match(pattern2,char): # 匹配到数字\n",
    "            thistype = 3\n",
    "            if thistype != lasttype and thisword:\n",
    "                if thisword in type1:\n",
    "                    output.append((1,thisword))\n",
    "                elif lasttype == 1:\n",
    "                    output.append((2,thisword))\n",
    "                else:\n",
    "                    output.append((lasttype,thisword))\n",
    "                thisword = ''\n",
    "            thisword += char\n",
    "            lasttype = 3\n",
    "        elif char in type4: # 匹配到类型4的字符\n",
    "            thistype = 4\n",
    "            if thistype != lasttype and thisword:\n",
    "                if thisword in type1:\n",
    "                    output.append((1,thisword))\n",
    "                elif lasttype == 1:\n",
    "                    output.append((2,thisword))\n",
    "                else:\n",
    "                    output.append((lasttype,thisword))\n",
    "                thisword = ''\n",
    "            thisword += char\n",
    "            lasttype = 4\n",
    "        elif char in type5: # 匹配到类型5的字符\n",
    "            thistype = 5\n",
    "            if thisword:\n",
    "                if thisword in type1:\n",
    "                    output.append((1,thisword))\n",
    "                elif lasttype == 1:\n",
    "                    output.append((2,thisword))\n",
    "                else:\n",
    "                    output.append((lasttype,thisword))\n",
    "                thisword = ''\n",
    "            thisword += char\n",
    "            lasttype = 5\n",
    "    return output"
   ]
  },
  {
   "cell_type": "code",
   "execution_count": 44,
   "metadata": {},
   "outputs": [
    {
     "name": "stdout",
     "output_type": "stream",
     "text": [
      "[(2, 'main'), (5, '('), (5, ')'), (5, '{'), (1, 'int'), (2, 'a'), (5, ','), (2, 'b'), (5, ';'), (2, 'a'), (4, '='), (3, '10'), (5, ';'), (2, 'b'), (4, '='), (2, 'a'), (4, '+'), (3, '20'), (5, ';'), (5, '}')]\n"
     ]
    }
   ],
   "source": [
    "if __name__==\"__main__\":\n",
    "    t=Lexical_Analyzer(tests)\n",
    "    print(t)"
   ]
  },
  {
   "cell_type": "code",
   "execution_count": null,
   "metadata": {},
   "outputs": [],
   "source": []
  }
 ],
 "metadata": {
  "kernelspec": {
   "display_name": "Python 3",
   "language": "python",
   "name": "python3"
  },
  "language_info": {
   "codemirror_mode": {
    "name": "ipython",
    "version": 3
   },
   "file_extension": ".py",
   "mimetype": "text/x-python",
   "name": "python",
   "nbconvert_exporter": "python",
   "pygments_lexer": "ipython3",
   "version": "3.5.4"
  }
 },
 "nbformat": 4,
 "nbformat_minor": 2
}
